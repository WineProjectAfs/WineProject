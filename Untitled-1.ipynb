{
 "cells": [
  {
   "cell_type": "code",
   "execution_count": 1,
   "metadata": {},
   "outputs": [],
   "source": [
    "import pandas as pd\n",
    "import numpy as np\n",
    "from sklearn.ensemble import RandomForestRegressor\n",
    "from sklearn.metrics import mean_absolute_error\n",
    "from sklearn.model_selection import train_test_split\n",
    "from sklearn.preprocessing import OneHotEncoder\n",
    "from sklearn.impute import SimpleImputer\n",
    " \n",
    "# Data Explanation / Exploration \n",
    "data_path = 'winemag_data.csv'\n",
    "home_data = pd.read_csv(data_path)\n",
    "\n",
    "# home_data.describe()\n",
    "# country, description, designation, points, price, province, region_1, region_2, variety, winery\n",
    "# home_data.columns\n",
    "\n",
    "# prediction target\n",
    "y = home_data.points\n",
    "# 48 unique values for country\n",
    "home_data.country.describe()\n",
    "# 632 unique varieties, \n",
    "home_data.variety.describe()\n",
    "# 455 provinces\n",
    "home_data.province.describe()\n",
    "# features\n",
    "features = ['country','variety']\n",
    "X = home_data[features]\n",
    "# X.describe()\n",
    "# X.head()\n",
    "\n",
    "# splitting validation and training data\n",
    "X_train, X_valid, y_train, y_valid = train_test_split(X, y, random_state=1)\n",
    "\n",
    "# transform categorical values into numerical values\n",
    "OH_encoder = OneHotEncoder(handle_unknown='ignore', sparse=False)\n",
    "OH_cols_train = pd.DataFrame(OH_encoder.fit_transform(X_train[features]))\n",
    "OH_cols_valid = pd.DataFrame(OH_encoder.fit_transform(X_valid[features]))\n",
    "\n",
    "# building model, getting mae\n",
    "wine_model = RandomForestRegressor(random_state=0)\n",
    "wine_model.fit(OH_cols_train, y_train)\n",
    "wine_preds = wine_model.predict(OH_cols_valid)\n",
    "wine_mae = (mean_absolute_error(y_valid, wine_preds))\n",
    "\n",
    "print(\"Validation MAE for Random Forest Model: {:,.0f}\".format(wine_mae))\n",
    "\n",
    "\n",
    "\n",
    "\n",
    "\n",
    "\n",
    "\n"
   ]
  }
 ],
 "metadata": {
  "interpreter": {
   "hash": "4477214b5051ca77ffcee0215f1b66b78859f8d228c301db64d6a137f8649988"
  },
  "kernelspec": {
   "display_name": "Python 3.9.9 64-bit (windows store)",
   "language": "python",
   "name": "python3"
  },
  "language_info": {
   "name": "python",
   "version": "3.9.9"
  },
  "orig_nbformat": 4
 },
 "nbformat": 4,
 "nbformat_minor": 2
}
