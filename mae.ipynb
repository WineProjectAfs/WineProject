{
 "cells": [
  {
   "cell_type": "code",
   "execution_count": 1,
   "metadata": {},
   "outputs": [
    {
     "name": "stdout",
     "output_type": "stream",
     "text": [
      "Validation MAE for Random Forest Model: 2\n"
     ]
    }
   ],
   "source": [
    "import pandas as pd\n",
    "import numpy as np\n",
    "from sklearn.ensemble import RandomForestRegressor\n",
    "from sklearn.metrics import mean_absolute_error\n",
    "from sklearn.model_selection import train_test_split\n",
    "from sklearn.preprocessing import OneHotEncoder\n",
    "from sklearn.impute import SimpleImputer\n",
    " \n",
    "# Load the data, and separate the target\n",
    "data_path = 'winemag_data.csv'\n",
    "home_data = pd.read_csv(data_path)\n",
    " \n",
    "# Create Y\n",
    "y = home_data.points \n",
    " \n",
    "# MAE 2\n",
    "features = ['country', 'variety']\n",
    "\n",
    "# Select Columns Corresponding to Feature and Preview Data\n",
    "X = home_data[features]\n",
    " \n",
    "# Split Into Validation and Training Data\n",
    "X_train, X_valid, Y_train, Y_valid = train_test_split(X, y, random_state=1)\n",
    " \n",
    "# Apply One-Hot Encoder\n",
    "OH_encoder = OneHotEncoder(handle_unknown='ignore', sparse=False)\n",
    "OH_cols_train = pd.DataFrame(OH_encoder.fit_transform(X_train[features]))\n",
    "OH_cols_valid = pd.DataFrame(OH_encoder.transform(X_valid[features]))\n",
    " \n",
    "# # One-hot encoding Removed Index...Put It Back\n",
    "OH_cols_train.index = X_train.index\n",
    "OH_cols_valid.index = X_valid.index\n",
    " \n",
    "# Define a Random Forest Model\n",
    "rf_model = RandomForestRegressor(random_state=0) \n",
    "rf_model.fit(OH_cols_train, Y_train)\n",
    "rf_val_predictions = rf_model.predict(OH_cols_valid)\n",
    "rf_val_mae = mean_absolute_error(rf_val_predictions, Y_valid)\n",
    " \n",
    "print(\"Validation MAE for Random Forest Model: {:,.0f}\".format(rf_val_mae))\n"
   ]
  }
 ],
 "metadata": {
  "interpreter": {
   "hash": "4477214b5051ca77ffcee0215f1b66b78859f8d228c301db64d6a137f8649988"
  },
  "kernelspec": {
   "display_name": "Python 3.9.9 64-bit (windows store)",
   "language": "python",
   "name": "python3"
  },
  "language_info": {
   "codemirror_mode": {
    "name": "ipython",
    "version": 3
   },
   "file_extension": ".py",
   "mimetype": "text/x-python",
   "name": "python",
   "nbconvert_exporter": "python",
   "pygments_lexer": "ipython3",
   "version": "3.9.9"
  },
  "orig_nbformat": 4
 },
 "nbformat": 4,
 "nbformat_minor": 2
}
